{
 "cells": [
  {
   "cell_type": "markdown",
   "metadata": {},
   "source": [
    "# Personal Pools\n",
    "\n",
    "Launch this tutorial in a Jupyter Notebook on Binder: \n",
    "[![Binder](https://mybinder.org/badge_logo.svg)](https://mybinder.org/v2/gh/htcondor/htcondor-python-bindings-tutorials/master?urlpath=lab/tree/Personal-Pools.ipynb)"
   ]
  },
  {
   "cell_type": "markdown",
   "metadata": {},
   "source": [
    "A Personal HTCondor Pool is an HTCondor Pool that has a single owner, who is:\n",
    "- The pool’s administrator.\n",
    "- The only submitter who is allowed to submit jobs to the pool.\n",
    "- The owner of all resources managed by the pool.\n",
    "\n",
    "The HTCondor Python bindings provide a submodule, `htcondor.personal`, which allows you to manage personal pools from Python.\n",
    "Personal pools are useful for:\n",
    "- Utilizing local computational resources (i.e., all of the cores on a lab server).\n",
    "- Created an isolated testing/development environment for HTCondor workflows.\n",
    "- Serving as an entrypoint to other computational resources, like annexes or flocked pools (not yet implemented)."
   ]
  },
  {
   "cell_type": "markdown",
   "metadata": {},
   "source": [
    "We can start a personal pool by instantiating a `PersonalPool`.\n",
    "This object represents the personal pool and lets us manage its \"lifecycle\": start up and shut down.\n",
    "We can also use the `PersonalPool` to interact with the HTCondor pool once it has been started up.\n",
    "\n",
    "Each Personal Pool must have a unique \"local directory\", corresponding to the HTCondor configuration parameter `LOCAL_DIR`. For this tutorial, we'll put it in the current working directory so that it's easy to find.\n",
    "\n",
    "> Advanced users can configure the personal pool using the `PersonalPool` constructor. See the documentation for details on the available options."
   ]
  },
  {
   "cell_type": "code",
   "execution_count": null,
   "metadata": {},
   "outputs": [],
   "source": [
    "import htcondor\n",
    "from htcondor.personal import PersonalPool\n",
    "from pathlib import Path"
   ]
  },
  {
   "cell_type": "code",
   "execution_count": null,
   "metadata": {},
   "outputs": [],
   "source": [
    "pool = PersonalPool(local_dir = Path.cwd() / \"personal-condor\")\n",
    "pool"
   ]
  },
  {
   "cell_type": "markdown",
   "metadata": {},
   "source": [
    "To tell the personal pool to start running, call the `start()` method:"
   ]
  },
  {
   "cell_type": "code",
   "execution_count": null,
   "metadata": {},
   "outputs": [],
   "source": [
    "pool.start()"
   ]
  },
  {
   "cell_type": "markdown",
   "metadata": {},
   "source": [
    "`start()` doesn't return until the personal pool is `READY`, which means that it can accept commands (e.g., job submission)."
   ]
  },
  {
   "cell_type": "markdown",
   "metadata": {},
   "source": [
    "`Schedd` and `Collector` objects for the personal pool are available as properties on the `PersonalPool`:"
   ]
  },
  {
   "cell_type": "code",
   "execution_count": null,
   "metadata": {},
   "outputs": [],
   "source": [
    "pool.schedd"
   ]
  },
  {
   "cell_type": "code",
   "execution_count": null,
   "metadata": {},
   "outputs": [],
   "source": [
    "pool.collector"
   ]
  },
  {
   "cell_type": "markdown",
   "metadata": {},
   "source": [
    "For example, we can submit jobs using `pool.schedd`:"
   ]
  },
  {
   "cell_type": "code",
   "execution_count": null,
   "metadata": {},
   "outputs": [],
   "source": [
    "sub = htcondor.Submit(\n",
    "    executable = \"/bin/sleep\",\n",
    "    arguments = \"$(ProcID)s\",\n",
    ")\n",
    "\n",
    "schedd = pool.schedd\n",
    "submit_result = schedd.submit(sub, count=10)\n",
    "\n",
    "print(f\"ClusterID is {submit_result.cluster()}\")"
   ]
  },
  {
   "cell_type": "markdown",
   "metadata": {},
   "source": [
    "And we can query for the state of those jobs:"
   ]
  },
  {
   "cell_type": "code",
   "execution_count": null,
   "metadata": {},
   "outputs": [],
   "source": [
    "for ad in pool.schedd.query(\n",
    "    constraint = f\"ClusterID == {submit_result.cluster()}\", \n",
    "    projection = [\"ClusterID\", \"ProcID\", \"JobStatus\"]\n",
    "):\n",
    "    print(repr(ad))"
   ]
  },
  {
   "cell_type": "markdown",
   "metadata": {},
   "source": [
    "We can use the collector to query the state of pool:"
   ]
  },
  {
   "cell_type": "code",
   "execution_count": null,
   "metadata": {},
   "outputs": [],
   "source": [
    "# get 3 random ads from the daemons in the pool\n",
    "for ad in pool.collector.query()[:3]:\n",
    "    print(ad)"
   ]
  },
  {
   "cell_type": "markdown",
   "metadata": {},
   "source": [
    "When you're done using the personal pool, you can `stop()` it:"
   ]
  },
  {
   "cell_type": "code",
   "execution_count": null,
   "metadata": {},
   "outputs": [],
   "source": [
    "pool.stop()"
   ]
  },
  {
   "cell_type": "markdown",
   "metadata": {},
   "source": [
    "`stop()`, like `start()` will not return until the personal pool has actually stopped running.\n",
    "The personal pool will also automatically be stopped if the `PersonalPool` object is garbage-collected, or when the Python interpreter stops running.\n",
    "\n",
    "> To prevent the pool from being automatically stopped in these situations, call the `detach()` method. The corresponding `attach()` method can be used to \"re-connect\" to a detached personal pool."
   ]
  },
  {
   "cell_type": "markdown",
   "metadata": {},
   "source": [
    "When working with a personal pool in a script, you may want to use it as a context manager. This pool will automatically start and stop at the beginning and end of the context:"
   ]
  },
  {
   "cell_type": "code",
   "execution_count": null,
   "metadata": {},
   "outputs": [],
   "source": [
    "with PersonalPool(local_dir = Path.cwd() / \"another-personal-condor\") as pool:  # note: no need to call start()\n",
    "    print(pool.get_config_val(\"LOCAL_DIR\"))"
   ]
  }
 ],
 "metadata": {
  "kernelspec": {
   "display_name": "Python 3 (ipykernel)",
   "language": "python",
   "name": "python3"
  },
  "language_info": {
   "codemirror_mode": {
    "name": "ipython",
    "version": 3
   },
   "file_extension": ".py",
   "mimetype": "text/x-python",
   "name": "python",
   "nbconvert_exporter": "python",
   "pygments_lexer": "ipython3",
   "version": "3.9.6"
  }
 },
 "nbformat": 4,
 "nbformat_minor": 4
}
